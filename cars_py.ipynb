{
  "nbformat": 4,
  "nbformat_minor": 0,
  "metadata": {
    "colab": {
      "provenance": [],
      "toc_visible": true,
      "authorship_tag": "ABX9TyOU3CgU7LP8imX9Qr+IYmoY",
      "include_colab_link": true
    },
    "kernelspec": {
      "name": "python3",
      "display_name": "Python 3"
    },
    "language_info": {
      "name": "python"
    }
  },
  "cells": [
    {
      "cell_type": "markdown",
      "metadata": {
        "id": "view-in-github",
        "colab_type": "text"
      },
      "source": [
        "<a href=\"https://colab.research.google.com/github/nandinivemuri/python-assignment_codes/blob/main/cars_py.ipynb\" target=\"_parent\"><img src=\"https://colab.research.google.com/assets/colab-badge.svg\" alt=\"Open In Colab\"/></a>"
      ]
    },
    {
      "cell_type": "markdown",
      "source": [
        "# New section"
      ],
      "metadata": {
        "id": "ODOp2UsPFZrk"
      }
    },
    {
      "cell_type": "code",
      "execution_count": 7,
      "metadata": {
        "colab": {
          "base_uri": "https://localhost:8080/"
        },
        "id": "g23Q8vr8BcVY",
        "outputId": "4806347c-1681-41d8-ab2d-3725c913fe22"
      },
      "outputs": [
        {
          "output_type": "stream",
          "name": "stdout",
          "text": [
            "Intercept    4.675157e-03\n",
            "WT           6.750156e-14\n",
            "VOL         -2.900210e-02\n",
            "SP           2.047558e-01\n",
            "HP          -7.575367e-02\n",
            "dtype: float64\n"
          ]
        }
      ],
      "source": [
        "import statsmodels.formula.api as smf\n",
        "import pandas as pd\n",
        "\n",
        "data = {\n",
        "    'MPG': [21, 22, 23, 24, 25],\n",
        "    'WT': [2.5, 2.7, 2.9, 3.0, 3.1],\n",
        "    'VOL': [100, 110, 120, 130, 140],\n",
        "    'SP': [150, 160, 170, 180, 190],\n",
        "    'HP': [90, 100, 110, 120, 130]\n",
        "}\n",
        "\n",
        "cars = pd.DataFrame(data)\n",
        "\n",
        "model = smf.ols('MPG ~ WT + VOL + SP + HP', data=cars).fit()\n",
        "\n",
        "print(model.params)"
      ]
    },
    {
      "cell_type": "markdown",
      "source": [],
      "metadata": {
        "id": "cMNWa8GSDHgS"
      }
    }
  ]
}