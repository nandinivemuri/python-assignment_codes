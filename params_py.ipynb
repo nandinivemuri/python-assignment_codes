{
  "nbformat": 4,
  "nbformat_minor": 0,
  "metadata": {
    "colab": {
      "provenance": [],
      "authorship_tag": "ABX9TyM3JLIj1nNme/fDCi4M6tvo",
      "include_colab_link": true
    },
    "kernelspec": {
      "name": "python3",
      "display_name": "Python 3"
    },
    "language_info": {
      "name": "python"
    }
  },
  "cells": [
    {
      "cell_type": "markdown",
      "metadata": {
        "id": "view-in-github",
        "colab_type": "text"
      },
      "source": [
        "<a href=\"https://colab.research.google.com/github/nandinivemuri/python-assignment_codes/blob/main/params_py.ipynb\" target=\"_parent\"><img src=\"https://colab.research.google.com/assets/colab-badge.svg\" alt=\"Open In Colab\"/></a>"
      ]
    },
    {
      "cell_type": "code",
      "execution_count": 1,
      "metadata": {
        "colab": {
          "base_uri": "https://localhost:8080/"
        },
        "id": "RdUXTrXhKy8X",
        "outputId": "96ab34d0-04a7-45fb-f1bf-2a4959ca03aa"
      },
      "outputs": [
        {
          "output_type": "stream",
          "name": "stdout",
          "text": [
            "Intercept    4.675157e-03\n",
            "WT           6.750156e-14\n",
            "VOL         -2.900210e-02\n",
            "SP           2.047558e-01\n",
            "HP          -7.575367e-02\n",
            "dtype: float64\n"
          ]
        }
      ],
      "source": [
        "import statsmodels.formula.api as smf\n",
        "import pandas as pd\n",
        "\n",
        "data = {\n",
        "    'MPG': [21, 22, 23, 24, 25],\n",
        "    'WT': [2.5, 2.7, 2.9, 3.0, 3.1],\n",
        "    'VOL': [100, 110, 120, 130, 140],\n",
        "    'SP': [150, 160, 170, 180, 190],\n",
        "    'HP': [90, 100, 110, 120, 130]\n",
        "}\n",
        "\n",
        "cars = pd.DataFrame(data)\n",
        "\n",
        "model = smf.ols('MPG ~ WT + VOL + SP + HP', data=cars).fit()\n",
        "\n",
        "print(model.params)"
      ]
    }
  ]
}